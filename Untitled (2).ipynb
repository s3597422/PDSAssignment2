{
 "cells": [
  {
   "cell_type": "code",
   "execution_count": 1,
   "metadata": {},
   "outputs": [],
   "source": [
    "yeast_p = \"yeast.data\"\n",
    "import pandas as pd\n",
    "yeast_initial = pd.read_csv(yeast_p, sep=\"\\s+\", decimal='.', header=None , names=['sequ_name', 'mcg', 'gvh', 'alm', 'mit', 'erl', 'pox', 'vac', 'nuc', 'class_protein_localization'])\n",
    "yeast = yeast_initial.copy()"
   ]
  },
  {
   "cell_type": "code",
   "execution_count": 2,
   "metadata": {},
   "outputs": [],
   "source": [
    "yeast_f = open(yeast_p, \"r\")\n",
    "lines = yeast_f.readlines()\n",
    "yeast_f.close()"
   ]
  },
  {
   "cell_type": "code",
   "execution_count": 3,
   "metadata": {},
   "outputs": [
    {
     "name": "stdout",
     "output_type": "stream",
     "text": [
      "('Number of rows in yeast df: ', (1484, 10))\n",
      "('Number of lines in yeast file: ', 1484)\n"
     ]
    }
   ],
   "source": [
    "print(\"Number of rows in yeast df: \", yeast.shape)\n",
    "print(\"Number of lines in yeast file: \", len(lines))"
   ]
  },
  {
   "cell_type": "code",
   "execution_count": 4,
   "metadata": {},
   "outputs": [
    {
     "name": "stdout",
     "output_type": "stream",
     "text": [
      "    sequ_name   mcg   gvh   alm   mit  erl  pox   vac   nuc  \\\n",
      "0  ADT1_YEAST  0.58  0.61  0.47  0.13  0.5  0.0  0.48  0.22   \n",
      "1  ADT2_YEAST  0.43  0.67  0.48  0.27  0.5  0.0  0.53  0.22   \n",
      "2  ADT3_YEAST  0.64  0.62  0.49  0.15  0.5  0.0  0.53  0.22   \n",
      "3  AAR2_YEAST  0.58  0.44  0.57  0.13  0.5  0.0  0.54  0.22   \n",
      "4  AATM_YEAST  0.42  0.44  0.48  0.54  0.5  0.0  0.48  0.22   \n",
      "\n",
      "  class_protein_localization  \n",
      "0                        MIT  \n",
      "1                        MIT  \n",
      "2                        MIT  \n",
      "3                        NUC  \n",
      "4                        MIT  \n",
      "\n",
      "\n",
      "['ADT1_YEAST  0.58  0.61  0.47  0.13  0.50  0.00  0.48  0.22  MIT\\n', 'ADT2_YEAST  0.43  0.67  0.48  0.27  0.50  0.00  0.53  0.22  MIT\\n', 'ADT3_YEAST  0.64  0.62  0.49  0.15  0.50  0.00  0.53  0.22  MIT\\n', 'AAR2_YEAST  0.58  0.44  0.57  0.13  0.50  0.00  0.54  0.22  NUC\\n', 'AATM_YEAST  0.42  0.44  0.48  0.54  0.50  0.00  0.48  0.22  MIT\\n']\n",
      "\n",
      "\n",
      "       sequ_name   mcg   gvh   alm   mit  erl  pox   vac   nuc  \\\n",
      "1479  YUR1_YEAST  0.81  0.62  0.43  0.17  0.5  0.0  0.53  0.22   \n",
      "1480  ZIP1_YEAST  0.47  0.43  0.61  0.40  0.5  0.0  0.48  0.47   \n",
      "1481  ZNRP_YEAST  0.67  0.57  0.36  0.19  0.5  0.0  0.56  0.22   \n",
      "1482  ZUO1_YEAST  0.43  0.40  0.60  0.16  0.5  0.0  0.53  0.39   \n",
      "1483  G6PD_YEAST  0.65  0.54  0.54  0.13  0.5  0.0  0.53  0.22   \n",
      "\n",
      "     class_protein_localization  \n",
      "1479                        ME2  \n",
      "1480                        NUC  \n",
      "1481                        ME2  \n",
      "1482                        NUC  \n",
      "1483                        CYT  \n",
      "\n",
      "\n",
      "['YUR1_YEAST  0.81  0.62  0.43  0.17  0.50  0.00  0.53  0.22  ME2\\n', 'ZIP1_YEAST  0.47  0.43  0.61  0.40  0.50  0.00  0.48  0.47  NUC\\n', 'ZNRP_YEAST  0.67  0.57  0.36  0.19  0.50  0.00  0.56  0.22  ME2\\n', 'ZUO1_YEAST  0.43  0.40  0.60  0.16  0.50  0.00  0.53  0.39  NUC\\n']\n"
     ]
    }
   ],
   "source": [
    "#visual check that data has loaded correctly\n",
    "print(yeast.head())\n",
    "print(\"\\n\")\n",
    "print(lines[0:5])\n",
    "print(\"\\n\")\n",
    "print(yeast.tail())\n",
    "print(\"\\n\")\n",
    "print(lines[1479:1483])"
   ]
  },
  {
   "cell_type": "code",
   "execution_count": 5,
   "metadata": {},
   "outputs": [
    {
     "name": "stdout",
     "output_type": "stream",
     "text": [
      "CYT    463\n",
      "NUC    429\n",
      "MIT    244\n",
      "ME3    163\n",
      "ME2     51\n",
      "ME1     44\n",
      "EXC     35\n",
      "VAC     30\n",
      "POX     20\n",
      "ERL      5\n",
      "Name: class_protein_localization, dtype: int64\n",
      "\n",
      "\n",
      "('Total number of counts: ', 1484)\n"
     ]
    }
   ],
   "source": [
    "#comparing value counts of target column with documentation\n",
    "print(yeast['class_protein_localization'].value_counts())\n",
    "print(\"\\n\")\n",
    "print(\"Total number of counts: \", yeast['class_protein_localization'].value_counts().sum())"
   ]
  },
  {
   "cell_type": "raw",
   "metadata": {},
   "source": [
    "Check with documentation:\n",
    "Class Distribution. The class is the localization site. Please see Nakai &\n",
    "\t\t       Kanehisa referenced above for more details.\n",
    "  CYT (cytosolic or cytoskeletal)                    463\n",
    "  NUC (nuclear)                                      429\n",
    "  MIT (mitochondrial)                                244\n",
    "  ME3 (membrane protein, no N-terminal signal)       163\n",
    "  ME2 (membrane protein, uncleaved signal)            51\n",
    "  ME1 (membrane protein, cleaved signal)              44\n",
    "  EXC (extracellular)                                 37\n",
    "  VAC (vacuolar)                                      30\n",
    "  POX (peroxisomal)                                   20\n",
    "  ERL (endoplasmic reticulum lumen)                    5\n",
    "\n",
    "Two extra values in EXC. Total for this column is 1486, which must be an error, since total number of columns is 1484."
   ]
  },
  {
   "cell_type": "code",
   "execution_count": 6,
   "metadata": {},
   "outputs": [
    {
     "data": {
      "text/plain": [
       "RL44_YEAST    2\n",
       "RS41_YEAST    2\n",
       "RS28_YEAST    2\n",
       "RS4E_YEAST    2\n",
       "RS22_YEAST    2\n",
       "RL12_YEAST    2\n",
       "RL19_YEAST    2\n",
       "RL35_YEAST    2\n",
       "H3_YEAST      2\n",
       "RL1A_YEAST    2\n",
       "RL18_YEAST    2\n",
       "RS24_YEAST    2\n",
       "MAT2_YEAST    2\n",
       "EF1A_YEAST    2\n",
       "RLUB_YEAST    2\n",
       "RL2_YEAST     2\n",
       "RL41_YEAST    2\n",
       "H4_YEAST      2\n",
       "MTC_YEAST     2\n",
       "RS8_YEAST     2\n",
       "RL15_YEAST    2\n",
       "IF4A_YEAST    2\n",
       "SPT5_YEAST    1\n",
       "CYC1_YEAST    1\n",
       "UBA1_YEAST    1\n",
       "YHY0_YEAST    1\n",
       "STH1_YEAST    1\n",
       "YBY2_YEAST    1\n",
       "KEM1_YEAST    1\n",
       "SOF1_YEAST    1\n",
       "             ..\n",
       "PT17_YEAST    1\n",
       "G6PI_YEAST    1\n",
       "ARF2_YEAST    1\n",
       "SUG1_YEAST    1\n",
       "SCA1_YEAST    1\n",
       "MT17_YEAST    1\n",
       "ATC2_YEAST    1\n",
       "PR09_YEAST    1\n",
       "RAP1_YEAST    1\n",
       "PR04_YEAST    1\n",
       "MET4_YEAST    1\n",
       "RS31_YEAST    1\n",
       "YIR3_YEAST    1\n",
       "PCNA_YEAST    1\n",
       "PR02_YEAST    1\n",
       "TSL1_YEAST    1\n",
       "SYAC_YEAST    1\n",
       "YB30_YEAST    1\n",
       "CC40_YEAST    1\n",
       "PRCZ_YEAST    1\n",
       "SP10_YEAST    1\n",
       "COXA_YEAST    1\n",
       "PEP8_YEAST    1\n",
       "UCR2_YEAST    1\n",
       "POB1_YEAST    1\n",
       "MBP1_YEAST    1\n",
       "KC21_YEAST    1\n",
       "YN70_YEAST    1\n",
       "MA3R_YEAST    1\n",
       "ATP7_YEAST    1\n",
       "Name: sequ_name, Length: 1462, dtype: int64"
      ]
     },
     "execution_count": 6,
     "metadata": {},
     "output_type": "execute_result"
    }
   ],
   "source": [
    "#exploring SWISS_PROT sequence name column - almost no repetition. \n",
    "#This column provides a way to reference each protein sequence analysed on the SWISS-PROT database.\n",
    "yeast['sequ_name'].value_counts()"
   ]
  },
  {
   "cell_type": "code",
   "execution_count": 7,
   "metadata": {},
   "outputs": [
    {
     "name": "stdout",
     "output_type": "stream",
     "text": [
      "sequ_name                     0\n",
      "mcg                           0\n",
      "gvh                           0\n",
      "alm                           0\n",
      "mit                           0\n",
      "erl                           0\n",
      "pox                           0\n",
      "vac                           0\n",
      "nuc                           0\n",
      "class_protein_localization    0\n",
      "dtype: int64\n"
     ]
    }
   ],
   "source": [
    "#confirm no missing values\n",
    "print(yeast.isna().sum())"
   ]
  },
  {
   "cell_type": "code",
   "execution_count": 8,
   "metadata": {},
   "outputs": [
    {
     "name": "stdout",
     "output_type": "stream",
     "text": [
      "<class 'pandas.core.frame.DataFrame'>\n",
      "RangeIndex: 1484 entries, 0 to 1483\n",
      "Data columns (total 10 columns):\n",
      "sequ_name                     1484 non-null object\n",
      "mcg                           1484 non-null float64\n",
      "gvh                           1484 non-null float64\n",
      "alm                           1484 non-null float64\n",
      "mit                           1484 non-null float64\n",
      "erl                           1484 non-null float64\n",
      "pox                           1484 non-null float64\n",
      "vac                           1484 non-null float64\n",
      "nuc                           1484 non-null float64\n",
      "class_protein_localization    1484 non-null object\n",
      "dtypes: float64(8), object(2)\n",
      "memory usage: 116.0+ KB\n"
     ]
    }
   ],
   "source": [
    "yeast.info()"
   ]
  },
  {
   "cell_type": "code",
   "execution_count": 9,
   "metadata": {},
   "outputs": [
    {
     "data": {
      "text/html": [
       "<div>\n",
       "<style scoped>\n",
       "    .dataframe tbody tr th:only-of-type {\n",
       "        vertical-align: middle;\n",
       "    }\n",
       "\n",
       "    .dataframe tbody tr th {\n",
       "        vertical-align: top;\n",
       "    }\n",
       "\n",
       "    .dataframe thead th {\n",
       "        text-align: right;\n",
       "    }\n",
       "</style>\n",
       "<table border=\"1\" class=\"dataframe\">\n",
       "  <thead>\n",
       "    <tr style=\"text-align: right;\">\n",
       "      <th></th>\n",
       "      <th>mcg</th>\n",
       "      <th>gvh</th>\n",
       "      <th>alm</th>\n",
       "      <th>mit</th>\n",
       "      <th>erl</th>\n",
       "      <th>pox</th>\n",
       "      <th>vac</th>\n",
       "      <th>nuc</th>\n",
       "    </tr>\n",
       "  </thead>\n",
       "  <tbody>\n",
       "    <tr>\n",
       "      <th>count</th>\n",
       "      <td>1484.000000</td>\n",
       "      <td>1484.000000</td>\n",
       "      <td>1484.000000</td>\n",
       "      <td>1484.000000</td>\n",
       "      <td>1484.000000</td>\n",
       "      <td>1484.000000</td>\n",
       "      <td>1484.000000</td>\n",
       "      <td>1484.000000</td>\n",
       "    </tr>\n",
       "    <tr>\n",
       "      <th>mean</th>\n",
       "      <td>0.500121</td>\n",
       "      <td>0.499933</td>\n",
       "      <td>0.500034</td>\n",
       "      <td>0.261186</td>\n",
       "      <td>0.504717</td>\n",
       "      <td>0.007500</td>\n",
       "      <td>0.499885</td>\n",
       "      <td>0.276199</td>\n",
       "    </tr>\n",
       "    <tr>\n",
       "      <th>std</th>\n",
       "      <td>0.137299</td>\n",
       "      <td>0.123924</td>\n",
       "      <td>0.086670</td>\n",
       "      <td>0.137098</td>\n",
       "      <td>0.048351</td>\n",
       "      <td>0.075683</td>\n",
       "      <td>0.057797</td>\n",
       "      <td>0.106491</td>\n",
       "    </tr>\n",
       "    <tr>\n",
       "      <th>min</th>\n",
       "      <td>0.110000</td>\n",
       "      <td>0.130000</td>\n",
       "      <td>0.210000</td>\n",
       "      <td>0.000000</td>\n",
       "      <td>0.500000</td>\n",
       "      <td>0.000000</td>\n",
       "      <td>0.000000</td>\n",
       "      <td>0.000000</td>\n",
       "    </tr>\n",
       "    <tr>\n",
       "      <th>25%</th>\n",
       "      <td>0.410000</td>\n",
       "      <td>0.420000</td>\n",
       "      <td>0.460000</td>\n",
       "      <td>0.170000</td>\n",
       "      <td>0.500000</td>\n",
       "      <td>0.000000</td>\n",
       "      <td>0.480000</td>\n",
       "      <td>0.220000</td>\n",
       "    </tr>\n",
       "    <tr>\n",
       "      <th>50%</th>\n",
       "      <td>0.490000</td>\n",
       "      <td>0.490000</td>\n",
       "      <td>0.510000</td>\n",
       "      <td>0.220000</td>\n",
       "      <td>0.500000</td>\n",
       "      <td>0.000000</td>\n",
       "      <td>0.510000</td>\n",
       "      <td>0.220000</td>\n",
       "    </tr>\n",
       "    <tr>\n",
       "      <th>75%</th>\n",
       "      <td>0.580000</td>\n",
       "      <td>0.570000</td>\n",
       "      <td>0.550000</td>\n",
       "      <td>0.320000</td>\n",
       "      <td>0.500000</td>\n",
       "      <td>0.000000</td>\n",
       "      <td>0.530000</td>\n",
       "      <td>0.300000</td>\n",
       "    </tr>\n",
       "    <tr>\n",
       "      <th>max</th>\n",
       "      <td>1.000000</td>\n",
       "      <td>1.000000</td>\n",
       "      <td>1.000000</td>\n",
       "      <td>1.000000</td>\n",
       "      <td>1.000000</td>\n",
       "      <td>0.830000</td>\n",
       "      <td>0.730000</td>\n",
       "      <td>1.000000</td>\n",
       "    </tr>\n",
       "  </tbody>\n",
       "</table>\n",
       "</div>"
      ],
      "text/plain": [
       "               mcg          gvh          alm          mit          erl  \\\n",
       "count  1484.000000  1484.000000  1484.000000  1484.000000  1484.000000   \n",
       "mean      0.500121     0.499933     0.500034     0.261186     0.504717   \n",
       "std       0.137299     0.123924     0.086670     0.137098     0.048351   \n",
       "min       0.110000     0.130000     0.210000     0.000000     0.500000   \n",
       "25%       0.410000     0.420000     0.460000     0.170000     0.500000   \n",
       "50%       0.490000     0.490000     0.510000     0.220000     0.500000   \n",
       "75%       0.580000     0.570000     0.550000     0.320000     0.500000   \n",
       "max       1.000000     1.000000     1.000000     1.000000     1.000000   \n",
       "\n",
       "               pox          vac          nuc  \n",
       "count  1484.000000  1484.000000  1484.000000  \n",
       "mean      0.007500     0.499885     0.276199  \n",
       "std       0.075683     0.057797     0.106491  \n",
       "min       0.000000     0.000000     0.000000  \n",
       "25%       0.000000     0.480000     0.220000  \n",
       "50%       0.000000     0.510000     0.220000  \n",
       "75%       0.000000     0.530000     0.300000  \n",
       "max       0.830000     0.730000     1.000000  "
      ]
     },
     "execution_count": 9,
     "metadata": {},
     "output_type": "execute_result"
    }
   ],
   "source": [
    "yeast.describe()"
   ]
  },
  {
   "cell_type": "code",
   "execution_count": null,
   "metadata": {},
   "outputs": [],
   "source": []
  },
  {
   "cell_type": "code",
   "execution_count": 10,
   "metadata": {},
   "outputs": [],
   "source": [
    "#sanity check using information given in ...."
   ]
  },
  {
   "cell_type": "code",
   "execution_count": null,
   "metadata": {},
   "outputs": [],
   "source": [
    "\n"
   ]
  },
  {
   "cell_type": "code",
   "execution_count": 17,
   "metadata": {},
   "outputs": [
    {
     "name": "stdout",
     "output_type": "stream",
     "text": [
      "<class 'pandas.core.series.Series'>\n",
      "\n",
      "\n",
      "0    MIT\n",
      "1    MIT\n",
      "2    MIT\n",
      "3    NUC\n",
      "4    MIT\n",
      "Name: class_protein_localization, dtype: object\n",
      "\n",
      "\n",
      "    sequ_name   mcg   gvh   alm   mit  erl  pox   vac   nuc\n",
      "0  ADT1_YEAST  0.58  0.61  0.47  0.13  0.5  0.0  0.48  0.22\n",
      "1  ADT2_YEAST  0.43  0.67  0.48  0.27  0.5  0.0  0.53  0.22\n",
      "2  ADT3_YEAST  0.64  0.62  0.49  0.15  0.5  0.0  0.53  0.22\n",
      "3  AAR2_YEAST  0.58  0.44  0.57  0.13  0.5  0.0  0.54  0.22\n",
      "4  AATM_YEAST  0.42  0.44  0.48  0.54  0.5  0.0  0.48  0.22\n"
     ]
    }
   ],
   "source": [
    "#split dataframe into target (a Series), and data (a dataframe named yeast_data)\n",
    "target = yeast[\"class_protein_localization\"]\n",
    "print(type(target))\n",
    "print(\"\\n\")\n",
    "print(target.head())\n",
    "print(\"\\n\")\n",
    "yeast_data = yeast.drop(\"class_protein_localization\", axis=1)\n",
    "print(yeast_data.head())"
   ]
  },
  {
   "cell_type": "code",
   "execution_count": null,
   "metadata": {},
   "outputs": [],
   "source": []
  }
 ],
 "metadata": {
  "kernelspec": {
   "display_name": "Python 2",
   "language": "python",
   "name": "python2"
  },
  "language_info": {
   "codemirror_mode": {
    "name": "ipython",
    "version": 2
   },
   "file_extension": ".py",
   "mimetype": "text/x-python",
   "name": "python",
   "nbconvert_exporter": "python",
   "pygments_lexer": "ipython2",
   "version": "2.7.15"
  }
 },
 "nbformat": 4,
 "nbformat_minor": 2
}
